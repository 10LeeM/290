{
  "nbformat": 4,
  "nbformat_minor": 0,
  "metadata": {
    "colab": {
      "name": "LR model.ipynb",
      "provenance": [],
      "collapsed_sections": [],
      "authorship_tag": "ABX9TyMSo64O81KtigkON8xCH4oP",
      "include_colab_link": true
    },
    "kernelspec": {
      "name": "python3",
      "display_name": "Python 3"
    },
    "language_info": {
      "name": "python"
    }
  },
  "cells": [
    {
      "cell_type": "markdown",
      "metadata": {
        "id": "view-in-github",
        "colab_type": "text"
      },
      "source": [
        "<a href=\"https://colab.research.google.com/github/10LeeM/290/blob/master/LR_model.ipynb\" target=\"_parent\"><img src=\"https://colab.research.google.com/assets/colab-badge.svg\" alt=\"Open In Colab\"/></a>"
      ]
    },
    {
      "cell_type": "code",
      "execution_count": 71,
      "metadata": {
        "id": "N2SKYXjSOc_O"
      },
      "outputs": [],
      "source": [
        "import numpy as np\n",
        "import tensorflow.compat.v1 as tf\n",
        "tf.disable_v2_behavior()\n",
        "\n",
        "import matplotlib.pyplot as plt\n"
      ]
    },
    {
      "cell_type": "markdown",
      "source": [
        "Define fixed seeds to make random numbers predictable"
      ],
      "metadata": {
        "id": "-0dmH0eyalpo"
      }
    },
    {
      "cell_type": "code",
      "source": [
        "np.random.seed(101)\n",
        "tf.random.set_random_seed(101)"
      ],
      "metadata": {
        "id": "ALisfhO4a45q"
      },
      "execution_count": 61,
      "outputs": []
    },
    {
      "cell_type": "markdown",
      "source": [
        "Generate random linear data"
      ],
      "metadata": {
        "id": "hTyw14p3eOjs"
      }
    },
    {
      "cell_type": "code",
      "source": [
        "# Generating random linear data\n",
        "# There will be 100 data points ranging from 0 to 50\n",
        "x = np.linspace(0, 50, 100)\n",
        "y = np.linspace(0, 50, 100)\n",
        "\n",
        "# Adding noise to the random linear data\n",
        "x += np.random.uniform(-4, 6, 100)\n",
        "y += np.random.uniform(-4, 2, 100)\n",
        "\n",
        "n = len(x) # Number of data points\n"
      ],
      "metadata": {
        "id": "lU2YU3ZueSNp"
      },
      "execution_count": 38,
      "outputs": []
    },
    {
      "cell_type": "markdown",
      "source": [
        "Visualize the training data"
      ],
      "metadata": {
        "id": "-hXWZ_eLeiqL"
      }
    },
    {
      "cell_type": "code",
      "source": [
        "plt.scatter(x,y)\n",
        "plt.xlabel('x')\n",
        "plt.ylabel('y')\n",
        "plt.title(\"Training data\")\n",
        "plt.show()"
      ],
      "metadata": {
        "colab": {
          "base_uri": "https://localhost:8080/",
          "height": 295
        },
        "id": "YI0HEcNGeoAQ",
        "outputId": "2f37c1a6-0ba4-4f1b-ada9-b0560277283a"
      },
      "execution_count": 39,
      "outputs": [
        {
          "output_type": "display_data",
          "data": {
            "text/plain": [
              "<Figure size 432x288 with 1 Axes>"
            ],
            "image/png": "[encoded data removed]"
          },
          "metadata": {
            "needs_background": "light"
          }
        }
      ]
    },
    {
      "cell_type": "markdown",
      "source": [
        "Create model by adding placeholders"
      ],
      "metadata": {
        "id": "vqaON9MNi2kd"
      }
    },
    {
      "cell_type": "code",
      "source": [
        "X = tf.placeholder(\"float\")\n",
        "Y = tf.placeholder(\"float\")\n"
      ],
      "metadata": {
        "id": "n1ETCVZ3i5vD"
      },
      "execution_count": 62,
      "outputs": []
    },
    {
      "cell_type": "markdown",
      "source": [
        "Declare model trainable variables (Weights and bias )"
      ],
      "metadata": {
        "id": "vPSnB2HpsH7t"
      }
    },
    {
      "cell_type": "code",
      "source": [
        "W = tf.Variable(np.random.randn(), name = \"W\")\n",
        "b = tf.Variable(np.random.randn(), name = \"b\")\n"
      ],
      "metadata": {
        "id": "GJVoZzzWp8uy"
      },
      "execution_count": 67,
      "outputs": []
    },
    {
      "cell_type": "markdown",
      "source": [
        "Declare model hyperparameters"
      ],
      "metadata": {
        "id": "mc9UTN1ssZHG"
      }
    },
    {
      "cell_type": "code",
      "source": [
        "learning_rate = 0.01\n",
        "training_epochs=1000"
      ],
      "metadata": {
        "id": "FjT0xaNvspBk"
      },
      "execution_count": 75,
      "outputs": []
    },
    {
      "cell_type": "code",
      "source": [
        "# Hypothesis\n",
        "y_pred = tf.add(tf.multiply(X, W), b)\n",
        "\n",
        "# Mean Squared Error Cost Function\n",
        "cost = tf.reduce_sum(tf.pow(y_pred-Y, 2)) / (2 * n)\n",
        "\n",
        "# Gradient Descent Optimizer\n",
        "optimizer = tf.train.GradientDescentOptimizer(learning_rate).minimize(cost)\n",
        "\n",
        "# Global Variables Initializer\n",
        "init = tf.global_variables_initializer()\n"
      ],
      "metadata": {
        "id": "xwBwR-zs1lSd"
      },
      "execution_count": 76,
      "outputs": []
    },
    {
      "cell_type": "markdown",
      "source": [
        "Train the model with Tensorflow session"
      ],
      "metadata": {
        "id": "CGU8ny3q6Bgs"
      }
    },
    {
      "cell_type": "code",
      "source": [
        "\n",
        "# Starting the Tensorflow Session\n",
        "with tf.Session() as sess:\n",
        "  \n",
        "  # Initializing the Variables\n",
        "  sess.run(init)\n",
        "  \n",
        "  # Iterating through all the epochs\n",
        "  for epoch in range(training_epochs):\n",
        "    \n",
        "    # Feeding each data point into the optimizer using Feed Dictionary\n",
        "    for (_x, _y) in zip(x, y):\n",
        "      sess.run(optimizer, feed_dict = {X : _x, Y : _y})\n",
        "    \n",
        "    # Displaying the result after every 50 epochs\n",
        "    if (epoch + 1) % 50 == 0:\n",
        "      # Calculating the cost a every epoch\n",
        "      c = sess.run(cost, feed_dict = {X : x, Y : y})\n",
        "      print(\"Epoch\", (epoch + 1), \": cost =\", c, \"W =\", sess.run(W), \"b =\", sess.run(b))\n",
        "  \n",
        "  # Storing necessary values to be used outside the Session\n",
        "  training_cost = sess.run(cost, feed_dict ={X: x, Y: y})\n",
        "  weight = sess.run(W)\n",
        "  bias = sess.run(b)\n"
      ],
      "metadata": {
        "colab": {
          "base_uri": "https://localhost:8080/"
        },
        "id": "YHh9GlVo4hMg",
        "outputId": "0f0a3bef-7241-40ec-b2f2-ca9c9adca8c3"
      },
      "execution_count": 77,
      "outputs": [
        {
          "output_type": "stream",
          "name": "stdout",
          "text": [
            "Epoch 50 : cost = 6.083237 W = 0.9361065 b = -0.34754744\n",
            "Epoch 100 : cost = 6.070223 W = 0.93688685 b = -0.38723582\n",
            "Epoch 150 : cost = 6.0588126 W = 0.9375965 b = -0.42333108\n",
            "Epoch 200 : cost = 6.048791 W = 0.9382419 b = -0.45615804\n",
            "Epoch 250 : cost = 6.03997 W = 0.9388288 b = -0.48601285\n",
            "Epoch 300 : cost = 6.0321918 W = 0.9393627 b = -0.51316327\n",
            "Epoch 350 : cost = 6.025316 W = 0.9398482 b = -0.5378576\n",
            "Epoch 400 : cost = 6.0192294 W = 0.94028974 b = -0.56031686\n",
            "Epoch 450 : cost = 6.0138316 W = 0.94069123 b = -0.5807392\n",
            "Epoch 500 : cost = 6.0090365 W = 0.94105643 b = -0.5993118\n",
            "Epoch 550 : cost = 6.004768 W = 0.9413886 b = -0.6162089\n",
            "Epoch 600 : cost = 6.000964 W = 0.9416906 b = -0.6315699\n",
            "Epoch 650 : cost = 5.99757 W = 0.94196534 b = -0.6455415\n",
            "Epoch 700 : cost = 5.9945364 W = 0.9422152 b = -0.6582486\n",
            "Epoch 750 : cost = 5.9918194 W = 0.9424425 b = -0.66980845\n",
            "Epoch 800 : cost = 5.989386 W = 0.94264907 b = -0.6803175\n",
            "Epoch 850 : cost = 5.9872026 W = 0.94283706 b = -0.68987846\n",
            "Epoch 900 : cost = 5.9852424 W = 0.94300795 b = -0.6985721\n",
            "Epoch 950 : cost = 5.9834795 W = 0.94316345 b = -0.70648044\n",
            "Epoch 1000 : cost = 5.981894 W = 0.94330484 b = -0.71367127\n"
          ]
        }
      ]
    }
  ]
}